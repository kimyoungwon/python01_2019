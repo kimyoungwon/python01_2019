{
 "cells": [
  {
   "cell_type": "code",
   "execution_count": 3,
   "metadata": {
    "colab": {},
    "colab_type": "code",
    "id": "AwMjehwWENEv"
   },
   "outputs": [],
   "source": [
    "def count_divisible_digits(n, m):\n",
    "  \"\"\"\n",
    "  \"\"\"\n",
    "  total = 0\n",
    "  n = abs(n)\n",
    "  if m == 0:\n",
    "    return 0\n",
    "  else:\n",
    "    while  n > 0:\n",
    "      digit = n % 10\n",
    "      if digit % m == 0:    \n",
    "        total += 1\n",
    "        n = n // 10\n",
    "      else:\n",
    "        total += 0\n",
    "        n = n // 10\n",
    "    return total      "
   ]
  },
  {
   "cell_type": "code",
   "execution_count": 149,
   "metadata": {
    "colab": {
     "base_uri": "https://localhost:8080/",
     "height": 35
    },
    "colab_type": "code",
    "id": "piCInz-YB6Y7",
    "outputId": "13b9d583-8d3d-4168-91d7-c2c89e9fe02d"
   },
   "outputs": [
    {
     "data": {
      "text/plain": [
       "0"
      ]
     },
     "execution_count": 149,
     "metadata": {},
     "output_type": "execute_result"
    }
   ],
   "source": [
    "count_divisible_digits(5332, 6) "
   ]
  },
  {
   "cell_type": "code",
   "execution_count": 5,
   "metadata": {
    "colab": {},
    "colab_type": "code",
    "id": "evVAXhDE2CI2"
   },
   "outputs": [],
   "source": [
    "def is_relatively_prime (n, m):\n",
    "  prime_list1 = []\n",
    "  prime_list2 = []\n",
    "  for i in range(1, n+1):\n",
    "    if n % i == 0:\n",
    "      prime_list1.append(i)\n",
    "  for j in range(1, m+1):\n",
    "    if m % j == 0:\n",
    "      prime_list2.append(j)\n",
    "  prime_list3 = list(set(prime_list1).intersection(prime_list2))\n",
    "  return prime_list3 == [1]\n",
    "  "
   ]
  },
  {
   "cell_type": "code",
   "execution_count": 6,
   "metadata": {
    "colab": {
     "base_uri": "https://localhost:8080/",
     "height": 35
    },
    "colab_type": "code",
    "id": "wArqpg4c6a5g",
    "outputId": "876ada7a-cbb6-44bc-886d-25dee0452519"
   },
   "outputs": [
    {
     "data": {
      "text/plain": [
       "False"
      ]
     },
     "execution_count": 6,
     "metadata": {},
     "output_type": "execute_result"
    }
   ],
   "source": [
    "is_relatively_prime(8, 4)"
   ]
  },
  {
   "cell_type": "code",
   "execution_count": 457,
   "metadata": {
    "colab": {},
    "colab_type": "code",
    "id": "pPS8uwaS6q97"
   },
   "outputs": [],
   "source": [
    "def travel(direction, x, y):\n",
    "    direction = direction.lower()\n",
    "    for i in str(direction):\n",
    "        if i == 'e':\n",
    "            x = x + 1            \n",
    "        elif i == 'n':\n",
    "            y = y + 1\n",
    "        elif i == 'w':\n",
    "            x = x - 1\n",
    "        elif i == 's':\n",
    "            y = y - 1\n",
    "        else:\n",
    "            None\n",
    "    return print(\"'(\"+ str(x) + \", \" + str(y) + \")'\" )"
   ]
  },
  {
   "cell_type": "code",
   "execution_count": 463,
   "metadata": {
    "colab": {
     "base_uri": "https://localhost:8080/",
     "height": 35
    },
    "colab_type": "code",
    "id": "EE_45McF08gj",
    "outputId": "6cabc15f-2f46-47da-ea05-a73b82b5a955",
    "scrolled": true
   },
   "outputs": [
    {
     "name": "stdout",
     "output_type": "stream",
     "text": [
      "'(-1, 4)'\n"
     ]
    }
   ],
   "source": [
    "travel('NW!ewnW', 1, 2) "
   ]
  },
  {
   "cell_type": "code",
   "execution_count": 460,
   "metadata": {
    "colab": {},
    "colab_type": "code",
    "id": "5K3tM3VH1e01"
   },
   "outputs": [],
   "source": [
    "def swip_swap(source, c1, c2):\n",
    "  result = \"\"\n",
    "  for i in range(len(source)):\n",
    "    if source[i] == c1:\n",
    "      result += c2\n",
    "    elif source[i] == c2:\n",
    "      result += c1\n",
    "    else:\n",
    "      result += source[i]\n",
    "  return result\n",
    "    "
   ]
  },
  {
   "cell_type": "code",
   "execution_count": 297,
   "metadata": {
    "colab": {
     "base_uri": "https://localhost:8080/",
     "height": 35
    },
    "colab_type": "code",
    "id": "aKM_a5ou_uyB",
    "outputId": "90a097f3-07bd-4895-cbae-af94aba2e24e"
   },
   "outputs": [
    {
     "data": {
      "text/plain": [
       "'faatboll'"
      ]
     },
     "execution_count": 297,
     "metadata": {},
     "output_type": "execute_result"
    }
   ],
   "source": [
    "swip_swap('football', 'o', 'a')"
   ]
  },
  {
   "cell_type": "code",
   "execution_count": 285,
   "metadata": {
    "colab": {
     "base_uri": "https://localhost:8080/",
     "height": 35
    },
    "colab_type": "code",
    "id": "COPe4P8vA-Yh",
    "outputId": "b4c8eaf8-e33a-4b62-8a13-de4d8b277035"
   },
   "outputs": [],
   "source": [
    "def compress (string):\n",
    "    string = list(string)\n",
    "    ls = []\n",
    "    before = string[0]\n",
    "    count = 1\n",
    "    \n",
    "    for i in range(1,len(string)):\n",
    "        if string[i] == before:\n",
    "            count += 1\n",
    "        else:\n",
    "            ls.append(before)\n",
    "            ls.append(str(count))\n",
    "            before = string[i]\n",
    "            count = 1\n",
    "    ls.append(before)\n",
    "    ls.append(str(count))\n",
    "    return ''.join(ls)\n"
   ]
  },
  {
   "cell_type": "code",
   "execution_count": 287,
   "metadata": {
    "colab": {},
    "colab_type": "code",
    "id": "ehU7i_R86MT7"
   },
   "outputs": [
    {
     "data": {
      "text/plain": [
       "'a3'"
      ]
     },
     "execution_count": 287,
     "metadata": {},
     "output_type": "execute_result"
    }
   ],
   "source": [
    "compress('aaa')\n",
    "  "
   ]
  },
  {
   "cell_type": "code",
   "execution_count": 423,
   "metadata": {
    "colab": {},
    "colab_type": "code",
    "id": "0VYhaiIyMyn2"
   },
   "outputs": [],
   "source": [
    "def longest_line_length (file_name):\n",
    "    with open(file_name) as f:\n",
    "        ls = [] \n",
    "        result = None\n",
    "        for line in f.readlines():\n",
    "            ls.append(len(line))\n",
    "            result = max(ls)\n",
    "        return result\n",
    "    \n",
    "  "
   ]
  },
  {
   "cell_type": "code",
   "execution_count": 425,
   "metadata": {
    "colab": {
     "base_uri": "https://localhost:8080/",
     "height": 294
    },
    "colab_type": "code",
    "id": "fc3FpGBzPYqF",
    "outputId": "3f818465-cb9e-4bcd-df0b-5d3c5e3aa780"
   },
   "outputs": [],
   "source": [
    "longest_line_length('poem4.txt')"
   ]
  },
  {
   "cell_type": "code",
   "execution_count": 426,
   "metadata": {},
   "outputs": [],
   "source": [
    "def longest_word (file_name):\n",
    "    with open(file_name) as f:\n",
    "        lines = f.readlines()\n",
    "        if len(lines) > 0:\n",
    "            line_number = 0\n",
    "            word_number = 0\n",
    "            for line in lines:\n",
    "                words = line.split()    \n",
    "                line_number += 1\n",
    "                for word in words:\n",
    "                    if len(word) > word_number:\n",
    "                        word_number = len(word)\n",
    "                        longest_word = word\n",
    "            return (str(line_number-1) + ': ' + longest_word)\n",
    "        else: \n",
    "            return None"
   ]
  },
  {
   "cell_type": "code",
   "execution_count": 385,
   "metadata": {
    "scrolled": true
   },
   "outputs": [
    {
     "data": {
      "text/plain": [
       "'7: sea-whale-shells'"
      ]
     },
     "execution_count": 385,
     "metadata": {},
     "output_type": "execute_result"
    }
   ],
   "source": [
    "longest_word('poem3.txt')"
   ]
  },
  {
   "cell_type": "code",
   "execution_count": 254,
   "metadata": {},
   "outputs": [],
   "source": [
    "def mode_digit(digits):\n",
    "    counts = [0] * 10\n",
    "    if digits == 0:\n",
    "        counts[0] += 1\n",
    "    else:\n",
    "        digits = abs(digits)\n",
    "        while digits > 0:\n",
    "            digit = digits % 10\n",
    "            counts[digit] += 1\n",
    "            digits //= 10\n",
    "    \n",
    "    max_count = 1\n",
    "    result = 0\n",
    "    for i in range(len(counts)):\n",
    "        count = counts[i]\n",
    "        if (count >= max_count):\n",
    "            max_count = count\n",
    "            result = i \n",
    "          \n",
    "    return result       "
   ]
  },
  {
   "cell_type": "code",
   "execution_count": 255,
   "metadata": {},
   "outputs": [
    {
     "data": {
      "text/plain": [
       "3"
      ]
     },
     "execution_count": 255,
     "metadata": {},
     "output_type": "execute_result"
    }
   ],
   "source": [
    "mode_digit(121123223133) "
   ]
  },
  {
   "cell_type": "code",
   "execution_count": 248,
   "metadata": {},
   "outputs": [
    {
     "ename": "SyntaxError",
     "evalue": "invalid syntax (<ipython-input-248-34a335296962>, line 12)",
     "output_type": "error",
     "traceback": [
      "\u001b[1;36m  File \u001b[1;32m\"<ipython-input-248-34a335296962>\"\u001b[1;36m, line \u001b[1;32m12\u001b[0m\n\u001b[1;33m    count =\u001b[0m\n\u001b[1;37m            ^\u001b[0m\n\u001b[1;31mSyntaxError\u001b[0m\u001b[1;31m:\u001b[0m invalid syntax\n"
     ]
    }
   ],
   "source": [
    "def mode_digit(digits):\n",
    "    counts = [0] * 10\n",
    "    if digits == 0:\n",
    "        counts[0] += 1\n",
    "    else:\n",
    "        digits = abs(digits)\n",
    "        while digits > 0:\n",
    "            digit = digits % 10\n",
    "            counts[digit] += 1\n",
    "            digits //= 10\n",
    "    \n",
    "    count = \n",
    "    for i in range(len(counts)):\n",
    "        maximum = max (counts)\n",
    "        if counts[i] == maximum:\n",
    "            return i\n"
   ]
  },
  {
   "cell_type": "code",
   "execution_count": 231,
   "metadata": {},
   "outputs": [
    {
     "ename": "NameError",
     "evalue": "name 'mode' is not defined",
     "output_type": "error",
     "traceback": [
      "\u001b[1;31m---------------------------------------------------------------------------\u001b[0m",
      "\u001b[1;31mNameError\u001b[0m                                 Traceback (most recent call last)",
      "\u001b[1;32m<ipython-input-231-9840347f0725>\u001b[0m in \u001b[0;36m<module>\u001b[1;34m\u001b[0m\n\u001b[1;32m----> 1\u001b[1;33m \u001b[0mmode_digit\u001b[0m\u001b[1;33m(\u001b[0m\u001b[1;36m1211232231\u001b[0m\u001b[1;33m)\u001b[0m\u001b[1;33m\u001b[0m\u001b[1;33m\u001b[0m\u001b[0m\n\u001b[0m",
      "\u001b[1;32m<ipython-input-230-11f1f6e668e7>\u001b[0m in \u001b[0;36mmode_digit\u001b[1;34m(digits)\u001b[0m\n\u001b[0;32m     12\u001b[0m     \u001b[0mcounter\u001b[0m \u001b[1;33m=\u001b[0m \u001b[1;36m0\u001b[0m\u001b[1;33m\u001b[0m\u001b[1;33m\u001b[0m\u001b[0m\n\u001b[0;32m     13\u001b[0m     \u001b[1;32mfor\u001b[0m \u001b[0mi\u001b[0m \u001b[1;32min\u001b[0m \u001b[0mrange\u001b[0m\u001b[1;33m(\u001b[0m\u001b[0mlen\u001b[0m\u001b[1;33m(\u001b[0m\u001b[0mcounts\u001b[0m\u001b[1;33m)\u001b[0m\u001b[1;33m)\u001b[0m\u001b[1;33m:\u001b[0m\u001b[1;33m\u001b[0m\u001b[1;33m\u001b[0m\u001b[0m\n\u001b[1;32m---> 14\u001b[1;33m         \u001b[0mprint\u001b[0m\u001b[1;33m(\u001b[0m\u001b[0mmode\u001b[0m\u001b[1;33m(\u001b[0m\u001b[0mcounts\u001b[0m\u001b[1;33m)\u001b[0m\u001b[1;33m)\u001b[0m\u001b[1;33m\u001b[0m\u001b[1;33m\u001b[0m\u001b[0m\n\u001b[0m\u001b[0;32m     15\u001b[0m \u001b[1;33m\u001b[0m\u001b[0m\n",
      "\u001b[1;31mNameError\u001b[0m: name 'mode' is not defined"
     ]
    }
   ],
   "source": [
    "mode_digit(1211232231) "
   ]
  },
  {
   "cell_type": "code",
   "execution_count": 246,
   "metadata": {},
   "outputs": [],
   "source": [
    "# Finds maximum occurring digit  \n",
    "# without using any array/string  \n",
    "  \n",
    "# Simple function to count  \n",
    "# occurrences of digit d in x  \n",
    "def countOccurrences(x, d): \n",
    "    count = 0; # Initialize count \n",
    "               # of digit d  \n",
    "    while (x):  \n",
    "          \n",
    "        # Increment count if current \n",
    "        # digit is same as d  \n",
    "        if (x % 10 == d): \n",
    "            count += 1;  \n",
    "        x = int(x / 10);  \n",
    "  \n",
    "    return count;  \n",
    "  \n",
    "# Returns the max occurring \n",
    "# digit in x  \n",
    "def maxOccurring(x): \n",
    "      \n",
    "    # Handle negative number  \n",
    "    if (x < 0): \n",
    "        x = -x; \n",
    "      \n",
    "    result = 0; # Initialize result  \n",
    "                # which is a digit \n",
    "    max_count = 1; # Initialize count  \n",
    "                   # of result  \n",
    "      \n",
    "    # Traverse through all digits \n",
    "    for d in range(10): \n",
    "          \n",
    "        # Count occurrences of current digit \n",
    "        count = countOccurrences(x, d); \n",
    "          \n",
    "        # Update max_count and  \n",
    "        # result if needed \n",
    "        if (count >= max_count): \n",
    "            max_count = count; \n",
    "            print(d)\n",
    "            result = d; \n",
    "            print(result)\n",
    "    return result"
   ]
  },
  {
   "cell_type": "code",
   "execution_count": 247,
   "metadata": {},
   "outputs": [
    {
     "name": "stdout",
     "output_type": "stream",
     "text": [
      "1\n",
      "1\n",
      "2\n",
      "2\n"
     ]
    },
    {
     "data": {
      "text/plain": [
       "2"
      ]
     },
     "execution_count": 247,
     "metadata": {},
     "output_type": "execute_result"
    }
   ],
   "source": [
    "\n",
    "maxOccurring(1211232231)"
   ]
  },
  {
   "cell_type": "code",
   "execution_count": null,
   "metadata": {},
   "outputs": [],
   "source": []
  }
 ],
 "metadata": {
  "colab": {
   "collapsed_sections": [],
   "name": "Untitled0.ipynb",
   "provenance": [],
   "version": "0.3.2"
  },
  "kernelspec": {
   "display_name": "Python 3",
   "language": "python",
   "name": "python3"
  },
  "language_info": {
   "codemirror_mode": {
    "name": "ipython",
    "version": 3
   },
   "file_extension": ".py",
   "mimetype": "text/x-python",
   "name": "python",
   "nbconvert_exporter": "python",
   "pygments_lexer": "ipython3",
   "version": "3.7.1"
  }
 },
 "nbformat": 4,
 "nbformat_minor": 1
}
