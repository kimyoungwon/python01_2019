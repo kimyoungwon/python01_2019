{
 "cells": [
  {
   "cell_type": "code",
   "execution_count": 114,
   "metadata": {},
   "outputs": [],
   "source": [
    "def parse(file_name, int_cols):\n",
    "    \"\"\"\n",
    "    Parses the CSV file specified by file_name and returns the data as a list\n",
    "    of dictionaries where each row is represented by a dictionary that\n",
    "    has keys for each column and value which is the entry for that column\n",
    "    at that row.\n",
    "\n",
    "    Also takes a list of column names that should have the data for that column\n",
    "    converted to integers. All other data will be str.\n",
    "    \"\"\"\n",
    "    data = []\n",
    "    with open(file_name) as f:\n",
    "        headers = f.readline().strip().split(',')\n",
    "        num_cols = len(headers)\n",
    "\n",
    "        for line in f.readlines():\n",
    "            row_data = line.strip().split(',')\n",
    "            row = {}\n",
    "            for i in range(num_cols):\n",
    "                if headers[i] in int_cols:\n",
    "                    row[headers[i]] = int(row_data[i])\n",
    "                else:\n",
    "                    row[headers[i]] = row_data[i]\n",
    "            data.append(row)\n",
    "    return data"
   ]
  },
  {
   "cell_type": "code",
   "execution_count": 115,
   "metadata": {},
   "outputs": [],
   "source": [
    "integer_cols = ['id', 'level', 'atk', 'def', 'hp', 'stage']\n",
    "parsed_entire_file = parse('pokemon_test.csv', integer_cols)"
   ]
  },
  {
   "cell_type": "code",
   "execution_count": null,
   "metadata": {},
   "outputs": [],
   "source": []
  },
  {
   "cell_type": "code",
   "execution_count": 3,
   "metadata": {},
   "outputs": [],
   "source": [
    "integer_cols = ['id', 'level', 'atk', 'def', 'hp', 'stage']\n",
    "parsed_entire_file2 = parse('pokemon_test_by_yw.csv', integer_cols)"
   ]
  },
  {
   "cell_type": "code",
   "execution_count": 4,
   "metadata": {},
   "outputs": [],
   "source": [
    "def species_count(data):\n",
    "    species = []\n",
    "    for line in data: \n",
    "        if line['name'] not in species:\n",
    "            species.append(line['name']) \n",
    "    return len(species)"
   ]
  },
  {
   "cell_type": "code",
   "execution_count": 5,
   "metadata": {},
   "outputs": [
    {
     "data": {
      "text/plain": [
       "3"
      ]
     },
     "execution_count": 5,
     "metadata": {},
     "output_type": "execute_result"
    }
   ],
   "source": [
    "species_count(parsed_entire_file)"
   ]
  },
  {
   "cell_type": "code",
   "execution_count": 6,
   "metadata": {},
   "outputs": [],
   "source": [
    "def max_level2(data):\n",
    "    \"\"\"\n",
    "    \"\"\"\n",
    "    species_data = {}\n",
    "    for line in data:\n",
    "        species_data[line['name']] = line['level']\n",
    "    # 밑에것과 연계해서 바꿀 수 있음\n",
    "    max_key = None\n",
    "    max_value = 0\n",
    "    for key in species_data:\n",
    "        if species_data[key] > max_value:\n",
    "            max_key = key\n",
    "            max_value = species_data[key] \n",
    "    return (max_key, max_value)"
   ]
  },
  {
   "cell_type": "code",
   "execution_count": 7,
   "metadata": {},
   "outputs": [],
   "source": [
    "def max_level(data):\n",
    "    \"\"\"\n",
    "    \"\"\"\n",
    "    max_key = None\n",
    "    max_value = 0\n",
    "    for line in data:\n",
    "        if line['level'] > max_value:\n",
    "            max_key = line['name']\n",
    "            max_value = line['level'] \n",
    "    return (max_key, max_value)"
   ]
  },
  {
   "cell_type": "code",
   "execution_count": 8,
   "metadata": {},
   "outputs": [
    {
     "data": {
      "text/plain": [
       "('Lapras', 72)"
      ]
     },
     "execution_count": 8,
     "metadata": {},
     "output_type": "execute_result"
    }
   ],
   "source": [
    "max_level(parsed_entire_file)"
   ]
  },
  {
   "cell_type": "code",
   "execution_count": 9,
   "metadata": {},
   "outputs": [],
   "source": [
    "def filter_range(data, smallest, largest):\n",
    "    species = []\n",
    "    for line in data:\n",
    "        if line['level'] >= smallest and line['level'] < largest:\n",
    "            species.append(line['name'])\n",
    "    return (species) "
   ]
  },
  {
   "cell_type": "code",
   "execution_count": 10,
   "metadata": {},
   "outputs": [
    {
     "data": {
      "text/plain": [
       "['Arcanine', 'Arcanine', 'Starmie', 'Persian', 'Magmar', 'Kingler']"
      ]
     },
     "execution_count": 10,
     "metadata": {},
     "output_type": "execute_result"
    }
   ],
   "source": [
    "filter_range(parsed_entire_file2, 30, 70)"
   ]
  },
  {
   "cell_type": "code",
   "execution_count": 11,
   "metadata": {},
   "outputs": [],
   "source": [
    "def mean_attack_for_type(data, pokemon_type):\n",
    "    all_type = []\n",
    "    attack = []\n",
    "    for line in data:\n",
    "        all_type.append(line['type'])\n",
    "    \n",
    "    for line in data:       \n",
    "        if line['type'] == pokemon_type and pokemon_type in all_type:\n",
    "            attack.append(line['atk'])\n",
    "    \n",
    "        elif pokemon_type not in all_type:\n",
    "            return None\n",
    "    average = sum(attack)/len(attack)\n",
    "    return average"
   ]
  },
  {
   "cell_type": "code",
   "execution_count": 556,
   "metadata": {},
   "outputs": [
    {
     "data": {
      "text/plain": [
       "63.666666666666664"
      ]
     },
     "execution_count": 556,
     "metadata": {},
     "output_type": "execute_result"
    }
   ],
   "source": [
    "mean_attack_for_type(parsed_entire_file2, 'fire')"
   ]
  },
  {
   "cell_type": "code",
   "execution_count": 12,
   "metadata": {},
   "outputs": [],
   "source": [
    "def mean_attack_per_type(data):\n",
    "    types_atks = {}\n",
    "    type_count = count_types(data)\n",
    "    for line in data:\n",
    "        if line['type'] in types_atks.keys():\n",
    "            types_atks[line['type']] = types_atks[line['type']] + line['atk']\n",
    "        else:\n",
    "            types_atks[line['type']] = line['atk']\n",
    "    \n",
    "    for key in type_count.keys():\n",
    "        types_atks[key] = types_atks[key]/type_count[key]\n",
    "    return types_atks"
   ]
  },
  {
   "cell_type": "code",
   "execution_count": 17,
   "metadata": {},
   "outputs": [],
   "source": [
    "def highest_stage_per_type(data):\n",
    "    types_stages = {}\n",
    "    for line in data:\n",
    "        if line['type'] in types_stages.keys():\n",
    "            if line['stage'] >= types_stages[line['type']]:\n",
    "                types_stages[line['type']] = line['stage']\n",
    "            else:\n",
    "                types_stages[line['type']] = types_stages[line['type']]\n",
    "        else:\n",
    "            types_stages[line['type']] = line['stage']\n",
    "    return types_stages"
   ]
  },
  {
   "cell_type": "code",
   "execution_count": 14,
   "metadata": {},
   "outputs": [
    {
     "data": {
      "text/plain": [
       "{'fire': 2, 'water': 2}"
      ]
     },
     "execution_count": 14,
     "metadata": {},
     "output_type": "execute_result"
    }
   ],
   "source": [
    "highest_stage_per_type(parsed_entire_file)"
   ]
  },
  {
   "cell_type": "code",
   "execution_count": 20,
   "metadata": {},
   "outputs": [
    {
     "data": {
      "text/plain": [
       "{'fire': 63.666666666666664,\n",
       " 'water': 130.33333333333334,\n",
       " 'normal': 104.0,\n",
       " 'fighting': 20.0}"
      ]
     },
     "execution_count": 20,
     "metadata": {},
     "output_type": "execute_result"
    }
   ],
   "source": [
    "mean_attack_per_type(parsed_entire_file2)"
   ]
  },
  {
   "cell_type": "code",
   "execution_count": 158,
   "metadata": {},
   "outputs": [
    {
     "name": "stdout",
     "output_type": "stream",
     "text": [
      "{'ab': 1, 'ac': 1}\n"
     ]
    },
    {
     "data": {
      "text/plain": [
       "2"
      ]
     },
     "execution_count": 158,
     "metadata": {},
     "output_type": "execute_result"
    }
   ],
   "source": [
    "a = {'ab':1, 'ac':1}\n",
    "print (a)\n",
    "\n",
    "a['ab'] = a['ab'] + 1\n",
    "a['ab']"
   ]
  },
  {
   "cell_type": "code",
   "execution_count": 19,
   "metadata": {},
   "outputs": [],
   "source": [
    "def count_types(data):\n",
    "    type_data = {}\n",
    "    for line in data:\n",
    "        if line['type'] in type_data.keys():\n",
    "            type_data[line['type']] += 1\n",
    "        else:\n",
    "            type_data[line['type']] = 1            \n",
    "    return type_data"
   ]
  },
  {
   "cell_type": "code",
   "execution_count": 163,
   "metadata": {},
   "outputs": [
    {
     "name": "stdout",
     "output_type": "stream",
     "text": [
      "{'id': 59, 'name': 'Arcanine', 'level': 35, 'personality': 'gentle', 'type': 'fire', 'weakness': 'water', 'atk': 45, 'def': 60, 'hp': 80, 'stage': 2}\n",
      "{'id': 131, 'name': 'Lapras', 'level': 72, 'personality': 'lax', 'type': 'water', 'weakness': 'electric', 'atk': 107, 'def': 113, 'hp': 29, 'stage': 1}\n"
     ]
    },
    {
     "data": {
      "text/plain": [
       "{'fire': 2, 'water': 2}"
      ]
     },
     "execution_count": 163,
     "metadata": {},
     "output_type": "execute_result"
    }
   ],
   "source": [
    "count_types(parsed_entire_file)"
   ]
  },
  {
   "cell_type": "code",
   "execution_count": 190,
   "metadata": {},
   "outputs": [],
   "source": [
    "def highest_stage_per_type(data):\n",
    "    type_data = {}\n",
    "    max_level = 0        \n",
    "    for line in data:\n",
    "        print(line)\n",
    "        if line['stage'] >= max_level:\n",
    "            type_data[line['type']] = line ['stage']\n",
    "            max_level = line ['stage']\n",
    "    return type_data"
   ]
  },
  {
   "cell_type": "code",
   "execution_count": 191,
   "metadata": {},
   "outputs": [
    {
     "name": "stdout",
     "output_type": "stream",
     "text": [
      "{'id': 59, 'name': 'Arcanine', 'level': 35, 'personality': 'impish', 'type': 'fire', 'weakness': 'water', 'atk': 50, 'def': 55, 'hp': 90, 'stage': 2}\n",
      "{'id': 59, 'name': 'Arcanine', 'level': 35, 'personality': 'gentle', 'type': 'fire', 'weakness': 'water', 'atk': 45, 'def': 60, 'hp': 80, 'stage': 2}\n",
      "{'id': 121, 'name': 'Starmie', 'level': 67, 'personality': 'sassy', 'type': 'water', 'weakness': 'electric', 'atk': 174, 'def': 56, 'hp': 113, 'stage': 2}\n",
      "{'id': 131, 'name': 'Lapras', 'level': 72, 'personality': 'lax', 'type': 'water', 'weakness': 'electric', 'atk': 107, 'def': 113, 'hp': 29, 'stage': 1}\n"
     ]
    },
    {
     "data": {
      "text/plain": [
       "{'fire': 2, 'water': 2}"
      ]
     },
     "execution_count": 191,
     "metadata": {},
     "output_type": "execute_result"
    }
   ],
   "source": [
    "highest_stage_per_type(parsed_entire_file)"
   ]
  },
  {
   "cell_type": "code",
   "execution_count": 21,
   "metadata": {},
   "outputs": [],
   "source": [
    "import pandas as pd\n",
    "\n",
    "data = pd.read_csv('pokemon_test.csv')\n",
    "data2 = pd.read_csv('pokemon_test_by_yw.csv')"
   ]
  },
  {
   "cell_type": "code",
   "execution_count": 22,
   "metadata": {},
   "outputs": [
    {
     "data": {
      "text/html": [
       "<div>\n",
       "<style scoped>\n",
       "    .dataframe tbody tr th:only-of-type {\n",
       "        vertical-align: middle;\n",
       "    }\n",
       "\n",
       "    .dataframe tbody tr th {\n",
       "        vertical-align: top;\n",
       "    }\n",
       "\n",
       "    .dataframe thead th {\n",
       "        text-align: right;\n",
       "    }\n",
       "</style>\n",
       "<table border=\"1\" class=\"dataframe\">\n",
       "  <thead>\n",
       "    <tr style=\"text-align: right;\">\n",
       "      <th></th>\n",
       "      <th>id</th>\n",
       "      <th>name</th>\n",
       "      <th>level</th>\n",
       "      <th>personality</th>\n",
       "      <th>type</th>\n",
       "      <th>weakness</th>\n",
       "      <th>atk</th>\n",
       "      <th>def</th>\n",
       "      <th>hp</th>\n",
       "      <th>stage</th>\n",
       "    </tr>\n",
       "  </thead>\n",
       "  <tbody>\n",
       "    <tr>\n",
       "      <th>0</th>\n",
       "      <td>59</td>\n",
       "      <td>Arcanine</td>\n",
       "      <td>35</td>\n",
       "      <td>impish</td>\n",
       "      <td>fire</td>\n",
       "      <td>water</td>\n",
       "      <td>50</td>\n",
       "      <td>55</td>\n",
       "      <td>90</td>\n",
       "      <td>2</td>\n",
       "    </tr>\n",
       "    <tr>\n",
       "      <th>1</th>\n",
       "      <td>59</td>\n",
       "      <td>Arcanine</td>\n",
       "      <td>35</td>\n",
       "      <td>gentle</td>\n",
       "      <td>fire</td>\n",
       "      <td>water</td>\n",
       "      <td>45</td>\n",
       "      <td>60</td>\n",
       "      <td>80</td>\n",
       "      <td>2</td>\n",
       "    </tr>\n",
       "    <tr>\n",
       "      <th>2</th>\n",
       "      <td>121</td>\n",
       "      <td>Starmie</td>\n",
       "      <td>67</td>\n",
       "      <td>sassy</td>\n",
       "      <td>water</td>\n",
       "      <td>electric</td>\n",
       "      <td>174</td>\n",
       "      <td>56</td>\n",
       "      <td>113</td>\n",
       "      <td>2</td>\n",
       "    </tr>\n",
       "    <tr>\n",
       "      <th>3</th>\n",
       "      <td>131</td>\n",
       "      <td>Lapras</td>\n",
       "      <td>72</td>\n",
       "      <td>lax</td>\n",
       "      <td>water</td>\n",
       "      <td>electric</td>\n",
       "      <td>107</td>\n",
       "      <td>113</td>\n",
       "      <td>29</td>\n",
       "      <td>1</td>\n",
       "    </tr>\n",
       "    <tr>\n",
       "      <th>4</th>\n",
       "      <td>53</td>\n",
       "      <td>Persian</td>\n",
       "      <td>40</td>\n",
       "      <td>mild</td>\n",
       "      <td>normal</td>\n",
       "      <td>fighting</td>\n",
       "      <td>104</td>\n",
       "      <td>116</td>\n",
       "      <td>147</td>\n",
       "      <td>2</td>\n",
       "    </tr>\n",
       "    <tr>\n",
       "      <th>5</th>\n",
       "      <td>126</td>\n",
       "      <td>Magmar</td>\n",
       "      <td>44</td>\n",
       "      <td>docile</td>\n",
       "      <td>fire</td>\n",
       "      <td>water</td>\n",
       "      <td>96</td>\n",
       "      <td>83</td>\n",
       "      <td>153</td>\n",
       "      <td>1</td>\n",
       "    </tr>\n",
       "    <tr>\n",
       "      <th>6</th>\n",
       "      <td>99</td>\n",
       "      <td>Kingler</td>\n",
       "      <td>33</td>\n",
       "      <td>adamant</td>\n",
       "      <td>water</td>\n",
       "      <td>electric</td>\n",
       "      <td>110</td>\n",
       "      <td>169</td>\n",
       "      <td>29</td>\n",
       "      <td>2</td>\n",
       "    </tr>\n",
       "    <tr>\n",
       "      <th>7</th>\n",
       "      <td>57</td>\n",
       "      <td>Primeape</td>\n",
       "      <td>9</td>\n",
       "      <td>lonely</td>\n",
       "      <td>fighting</td>\n",
       "      <td>flying</td>\n",
       "      <td>20</td>\n",
       "      <td>66</td>\n",
       "      <td>43</td>\n",
       "      <td>2</td>\n",
       "    </tr>\n",
       "  </tbody>\n",
       "</table>\n",
       "</div>"
      ],
      "text/plain": [
       "    id      name  level personality      type  weakness  atk  def   hp  stage\n",
       "0   59  Arcanine     35      impish      fire     water   50   55   90      2\n",
       "1   59  Arcanine     35      gentle      fire     water   45   60   80      2\n",
       "2  121   Starmie     67       sassy     water  electric  174   56  113      2\n",
       "3  131    Lapras     72         lax     water  electric  107  113   29      1\n",
       "4   53   Persian     40        mild    normal  fighting  104  116  147      2\n",
       "5  126    Magmar     44      docile      fire     water   96   83  153      1\n",
       "6   99   Kingler     33     adamant     water  electric  110  169   29      2\n",
       "7   57  Primeape      9      lonely  fighting    flying   20   66   43      2"
      ]
     },
     "execution_count": 22,
     "metadata": {},
     "output_type": "execute_result"
    }
   ],
   "source": [
    "data2"
   ]
  },
  {
   "cell_type": "code",
   "execution_count": 23,
   "metadata": {},
   "outputs": [],
   "source": [
    "def species_count(data):\n",
    "    return len(data['name'].unique())"
   ]
  },
  {
   "cell_type": "code",
   "execution_count": 24,
   "metadata": {},
   "outputs": [
    {
     "data": {
      "text/plain": [
       "3"
      ]
     },
     "execution_count": 24,
     "metadata": {},
     "output_type": "execute_result"
    }
   ],
   "source": [
    "species_count(data)"
   ]
  },
  {
   "cell_type": "code",
   "execution_count": 25,
   "metadata": {},
   "outputs": [],
   "source": [
    "def max_level(data):\n",
    "    val = data.loc[data['level'].idxmax()]\n",
    "    return val['name'], val['level']"
   ]
  },
  {
   "cell_type": "code",
   "execution_count": 27,
   "metadata": {},
   "outputs": [
    {
     "data": {
      "text/plain": [
       "id                  131\n",
       "name             Lapras\n",
       "level                72\n",
       "personality         lax\n",
       "type              water\n",
       "weakness       electric\n",
       "atk                 107\n",
       "def                 113\n",
       "hp                   29\n",
       "stage                 1\n",
       "Name: 3, dtype: object"
      ]
     },
     "execution_count": 27,
     "metadata": {},
     "output_type": "execute_result"
    }
   ],
   "source": [
    "data.loc[data['level'].idxmax()]"
   ]
  },
  {
   "cell_type": "code",
   "execution_count": 26,
   "metadata": {},
   "outputs": [
    {
     "data": {
      "text/plain": [
       "('Lapras', 72)"
      ]
     },
     "execution_count": 26,
     "metadata": {},
     "output_type": "execute_result"
    }
   ],
   "source": [
    "max_level(data) "
   ]
  },
  {
   "cell_type": "code",
   "execution_count": 28,
   "metadata": {},
   "outputs": [],
   "source": [
    "def filter_range(data, smallest, largest):\n",
    "    filtered = data[(data['level'] >= smallest) \n",
    "                    & (data['level'] < largest)]\n",
    "    return list(filtered['name'])"
   ]
  },
  {
   "cell_type": "code",
   "execution_count": 474,
   "metadata": {},
   "outputs": [
    {
     "data": {
      "text/plain": [
       "['Arcanine', 'Arcanine', 'Starmie', 'Persian', 'Magmar', 'Kingler']"
      ]
     },
     "execution_count": 474,
     "metadata": {},
     "output_type": "execute_result"
    }
   ],
   "source": [
    "filter_range(data2, 30, 70) "
   ]
  },
  {
   "cell_type": "code",
   "execution_count": 29,
   "metadata": {},
   "outputs": [],
   "source": [
    "def mean_attack_for_type(data, pokemon_type):\n",
    "    if pokemon_type in dict(data['type']).values():\n",
    "        return (data.groupby('type')['atk'].mean())[pokemon_type]\n",
    "    else:\n",
    "        return None\n",
    "\n"
   ]
  },
  {
   "cell_type": "code",
   "execution_count": 35,
   "metadata": {},
   "outputs": [
    {
     "data": {
      "text/plain": [
       "dict_values(['fire', 'fire', 'water', 'water', 'normal', 'fire', 'water', 'fighting'])"
      ]
     },
     "execution_count": 35,
     "metadata": {},
     "output_type": "execute_result"
    }
   ],
   "source": [
    "dict(data2['type']).values()"
   ]
  },
  {
   "cell_type": "code",
   "execution_count": 44,
   "metadata": {},
   "outputs": [
    {
     "data": {
      "text/html": [
       "<div>\n",
       "<style scoped>\n",
       "    .dataframe tbody tr th:only-of-type {\n",
       "        vertical-align: middle;\n",
       "    }\n",
       "\n",
       "    .dataframe tbody tr th {\n",
       "        vertical-align: top;\n",
       "    }\n",
       "\n",
       "    .dataframe thead th {\n",
       "        text-align: right;\n",
       "    }\n",
       "</style>\n",
       "<table border=\"1\" class=\"dataframe\">\n",
       "  <thead>\n",
       "    <tr style=\"text-align: right;\">\n",
       "      <th></th>\n",
       "      <th>id</th>\n",
       "      <th>name</th>\n",
       "      <th>level</th>\n",
       "      <th>personality</th>\n",
       "      <th>type</th>\n",
       "      <th>weakness</th>\n",
       "      <th>atk</th>\n",
       "      <th>def</th>\n",
       "      <th>hp</th>\n",
       "      <th>stage</th>\n",
       "    </tr>\n",
       "  </thead>\n",
       "  <tbody>\n",
       "    <tr>\n",
       "      <th>0</th>\n",
       "      <td>59</td>\n",
       "      <td>Arcanine</td>\n",
       "      <td>35</td>\n",
       "      <td>impish</td>\n",
       "      <td>fire</td>\n",
       "      <td>water</td>\n",
       "      <td>50</td>\n",
       "      <td>55</td>\n",
       "      <td>90</td>\n",
       "      <td>2</td>\n",
       "    </tr>\n",
       "    <tr>\n",
       "      <th>1</th>\n",
       "      <td>59</td>\n",
       "      <td>Arcanine</td>\n",
       "      <td>35</td>\n",
       "      <td>gentle</td>\n",
       "      <td>fire</td>\n",
       "      <td>water</td>\n",
       "      <td>45</td>\n",
       "      <td>60</td>\n",
       "      <td>80</td>\n",
       "      <td>2</td>\n",
       "    </tr>\n",
       "    <tr>\n",
       "      <th>2</th>\n",
       "      <td>121</td>\n",
       "      <td>Starmie</td>\n",
       "      <td>67</td>\n",
       "      <td>sassy</td>\n",
       "      <td>water</td>\n",
       "      <td>electric</td>\n",
       "      <td>174</td>\n",
       "      <td>56</td>\n",
       "      <td>113</td>\n",
       "      <td>2</td>\n",
       "    </tr>\n",
       "    <tr>\n",
       "      <th>3</th>\n",
       "      <td>131</td>\n",
       "      <td>Lapras</td>\n",
       "      <td>72</td>\n",
       "      <td>lax</td>\n",
       "      <td>water</td>\n",
       "      <td>electric</td>\n",
       "      <td>107</td>\n",
       "      <td>113</td>\n",
       "      <td>29</td>\n",
       "      <td>1</td>\n",
       "    </tr>\n",
       "  </tbody>\n",
       "</table>\n",
       "</div>"
      ],
      "text/plain": [
       "    id      name  level personality   type  weakness  atk  def   hp  stage\n",
       "0   59  Arcanine     35      impish   fire     water   50   55   90      2\n",
       "1   59  Arcanine     35      gentle   fire     water   45   60   80      2\n",
       "2  121   Starmie     67       sassy  water  electric  174   56  113      2\n",
       "3  131    Lapras     72         lax  water  electric  107  113   29      1"
      ]
     },
     "execution_count": 44,
     "metadata": {},
     "output_type": "execute_result"
    }
   ],
   "source": [
    "data"
   ]
  },
  {
   "cell_type": "code",
   "execution_count": 49,
   "metadata": {},
   "outputs": [
    {
     "data": {
      "text/plain": [
       "type\n",
       "fire     2\n",
       "water    2\n",
       "Name: type, dtype: int64"
      ]
     },
     "execution_count": 49,
     "metadata": {},
     "output_type": "execute_result"
    }
   ],
   "source": [
    "(data.groupby('type')['type'].count())"
   ]
  },
  {
   "cell_type": "code",
   "execution_count": 76,
   "metadata": {},
   "outputs": [],
   "source": [
    "def max_atk_difference_manual(data):\n",
    "    if len(data) < 2:\n",
    "        return None\n",
    "    smallest = data['atk'][0]\n",
    "    largest = data['atk'][0]\n",
    "    for row in data['atk']:\n",
    "        if atk < smallest:\n",
    "            smallest = atk\n",
    "        elif atk > largest:\n",
    "            largest = atk\n",
    "    return largest - smallest    "
   ]
  },
  {
   "cell_type": "code",
   "execution_count": 78,
   "metadata": {},
   "outputs": [],
   "source": [
    "def max_atk_difference_manual(data):\n",
    "    return data['atk'].max()-data['atk'].min()"
   ]
  },
  {
   "cell_type": "code",
   "execution_count": 79,
   "metadata": {},
   "outputs": [
    {
     "name": "stdout",
     "output_type": "stream",
     "text": [
      "129\n"
     ]
    }
   ],
   "source": [
    "print(max_atk_difference_manual(data))"
   ]
  },
  {
   "cell_type": "code",
   "execution_count": 65,
   "metadata": {},
   "outputs": [
    {
     "data": {
      "text/plain": [
       "50"
      ]
     },
     "execution_count": 65,
     "metadata": {},
     "output_type": "execute_result"
    }
   ],
   "source": [
    "data['atk'][0]"
   ]
  },
  {
   "cell_type": "code",
   "execution_count": 46,
   "metadata": {},
   "outputs": [
    {
     "data": {
      "text/plain": [
       "47.5"
      ]
     },
     "execution_count": 46,
     "metadata": {},
     "output_type": "execute_result"
    }
   ],
   "source": [
    "(data.groupby('type')['atk'].mean())['fire']"
   ]
  },
  {
   "cell_type": "code",
   "execution_count": 30,
   "metadata": {},
   "outputs": [
    {
     "data": {
      "text/plain": [
       "63.666666666666664"
      ]
     },
     "execution_count": 30,
     "metadata": {},
     "output_type": "execute_result"
    }
   ],
   "source": [
    "mean_attack_for_type(data2, 'fire')"
   ]
  },
  {
   "cell_type": "code",
   "execution_count": 31,
   "metadata": {},
   "outputs": [
    {
     "data": {
      "text/plain": [
       "{0: 'fire', 1: 'fire', 2: 'water', 3: 'water'}"
      ]
     },
     "execution_count": 31,
     "metadata": {},
     "output_type": "execute_result"
    }
   ],
   "source": [
    "dict(data['type'])"
   ]
  },
  {
   "cell_type": "code",
   "execution_count": 495,
   "metadata": {},
   "outputs": [],
   "source": [
    "def mean_attack_for_type(data):\n",
    "    return dict(data.groupby('type')['atk'].mean())"
   ]
  },
  {
   "cell_type": "code",
   "execution_count": 496,
   "metadata": {},
   "outputs": [
    {
     "data": {
      "text/plain": [
       "{'fighting': 20.0,\n",
       " 'fire': 63.666666666666664,\n",
       " 'normal': 104.0,\n",
       " 'water': 130.33333333333334}"
      ]
     },
     "execution_count": 496,
     "metadata": {},
     "output_type": "execute_result"
    }
   ],
   "source": [
    "mean_attack_for_type(data2) "
   ]
  },
  {
   "cell_type": "code",
   "execution_count": 52,
   "metadata": {},
   "outputs": [],
   "source": [
    "def highest_stage_per_type(data):\n",
    "    return dict(data.groupby('type')['stage'].max())"
   ]
  },
  {
   "cell_type": "code",
   "execution_count": 53,
   "metadata": {},
   "outputs": [
    {
     "data": {
      "text/plain": [
       "{'fighting': 2, 'fire': 2, 'normal': 2, 'water': 2}"
      ]
     },
     "execution_count": 53,
     "metadata": {},
     "output_type": "execute_result"
    }
   ],
   "source": [
    "highest_stage_per_type(data2)"
   ]
  },
  {
   "cell_type": "code",
   "execution_count": 412,
   "metadata": {},
   "outputs": [],
   "source": [
    "def count_types(data):\n",
    "    return dict(data.groupby('type')['type'].count())"
   ]
  },
  {
   "cell_type": "code",
   "execution_count": 498,
   "metadata": {},
   "outputs": [
    {
     "data": {
      "text/plain": [
       "{'fighting': 1, 'fire': 3, 'normal': 1, 'water': 3}"
      ]
     },
     "execution_count": 498,
     "metadata": {},
     "output_type": "execute_result"
    }
   ],
   "source": [
    "count_types(data2)"
   ]
  },
  {
   "cell_type": "code",
   "execution_count": 415,
   "metadata": {},
   "outputs": [
    {
     "data": {
      "text/plain": [
       "type\n",
       "fire     2\n",
       "water    2\n",
       "Name: stage, dtype: int64"
      ]
     },
     "execution_count": 415,
     "metadata": {},
     "output_type": "execute_result"
    }
   ],
   "source": [
    "data.groupby('type')['stage'].count()"
   ]
  },
  {
   "cell_type": "code",
   "execution_count": 120,
   "metadata": {},
   "outputs": [],
   "source": [
    "def best_matchup_manual(data, index):\n",
    "    pokemon = row[index]\n",
    "    result = {}\n",
    "    for row in data:\n",
    "        t = row ['type']\n",
    "        if t != pokemon['weakness']:\n",
    "            if t in result:\n",
    "                if row['atk'] < result[t]['atk']:\n",
    "                    result[t] = row\n",
    "            else:\n",
    "                result[t] = row\n",
    "    return {r['type']:r['atk'] for r in result}"
   ]
  },
  {
   "cell_type": "code",
   "execution_count": 116,
   "metadata": {},
   "outputs": [
    {
     "data": {
      "text/plain": [
       "[{'id': 59,\n",
       "  'name': 'Arcanine',\n",
       "  'level': 35,\n",
       "  'personality': 'impish',\n",
       "  'type': 'fire',\n",
       "  'weakness': 'water',\n",
       "  'atk': 50,\n",
       "  'def': 55,\n",
       "  'hp': 90,\n",
       "  'stage': 2},\n",
       " {'id': 59,\n",
       "  'name': 'Arcanine',\n",
       "  'level': 35,\n",
       "  'personality': 'gentle',\n",
       "  'type': 'fire',\n",
       "  'weakness': 'water',\n",
       "  'atk': 45,\n",
       "  'def': 60,\n",
       "  'hp': 80,\n",
       "  'stage': 2},\n",
       " {'id': 121,\n",
       "  'name': 'Starmie',\n",
       "  'level': 67,\n",
       "  'personality': 'sassy',\n",
       "  'type': 'water',\n",
       "  'weakness': 'electric',\n",
       "  'atk': 174,\n",
       "  'def': 56,\n",
       "  'hp': 113,\n",
       "  'stage': 2},\n",
       " {'id': 131,\n",
       "  'name': 'Lapras',\n",
       "  'level': 72,\n",
       "  'personality': 'lax',\n",
       "  'type': 'water',\n",
       "  'weakness': 'electric',\n",
       "  'atk': 107,\n",
       "  'def': 113,\n",
       "  'hp': 29,\n",
       "  'stage': 1}]"
      ]
     },
     "execution_count": 116,
     "metadata": {},
     "output_type": "execute_result"
    }
   ],
   "source": [
    "parsed_entire_file"
   ]
  },
  {
   "cell_type": "code",
   "execution_count": 121,
   "metadata": {},
   "outputs": [
    {
     "ename": "UnboundLocalError",
     "evalue": "local variable 'row' referenced before assignment",
     "output_type": "error",
     "traceback": [
      "\u001b[1;31m---------------------------------------------------------------------------\u001b[0m",
      "\u001b[1;31mUnboundLocalError\u001b[0m                         Traceback (most recent call last)",
      "\u001b[1;32m<ipython-input-121-5cc60b288ad9>\u001b[0m in \u001b[0;36m<module>\u001b[1;34m\u001b[0m\n\u001b[1;32m----> 1\u001b[1;33m \u001b[0mbest_matchup_manual\u001b[0m\u001b[1;33m(\u001b[0m\u001b[0mparsed_entire_file\u001b[0m\u001b[1;33m,\u001b[0m\u001b[1;36m1\u001b[0m\u001b[1;33m)\u001b[0m\u001b[1;33m\u001b[0m\u001b[1;33m\u001b[0m\u001b[0m\n\u001b[0m",
      "\u001b[1;32m<ipython-input-120-edf2618a76ed>\u001b[0m in \u001b[0;36mbest_matchup_manual\u001b[1;34m(data, index)\u001b[0m\n\u001b[0;32m      1\u001b[0m \u001b[1;32mdef\u001b[0m \u001b[0mbest_matchup_manual\u001b[0m\u001b[1;33m(\u001b[0m\u001b[0mdata\u001b[0m\u001b[1;33m,\u001b[0m \u001b[0mindex\u001b[0m\u001b[1;33m)\u001b[0m\u001b[1;33m:\u001b[0m\u001b[1;33m\u001b[0m\u001b[1;33m\u001b[0m\u001b[0m\n\u001b[1;32m----> 2\u001b[1;33m     \u001b[0mpokemon\u001b[0m \u001b[1;33m=\u001b[0m \u001b[0mrow\u001b[0m\u001b[1;33m[\u001b[0m\u001b[0mindex\u001b[0m\u001b[1;33m]\u001b[0m\u001b[1;33m\u001b[0m\u001b[1;33m\u001b[0m\u001b[0m\n\u001b[0m\u001b[0;32m      3\u001b[0m     \u001b[0mresult\u001b[0m \u001b[1;33m=\u001b[0m \u001b[1;33m{\u001b[0m\u001b[1;33m}\u001b[0m\u001b[1;33m\u001b[0m\u001b[1;33m\u001b[0m\u001b[0m\n\u001b[0;32m      4\u001b[0m     \u001b[1;32mfor\u001b[0m \u001b[0mrow\u001b[0m \u001b[1;32min\u001b[0m \u001b[0mdata\u001b[0m\u001b[1;33m:\u001b[0m\u001b[1;33m\u001b[0m\u001b[1;33m\u001b[0m\u001b[0m\n\u001b[0;32m      5\u001b[0m         \u001b[0mprint\u001b[0m\u001b[1;33m(\u001b[0m\u001b[0mrow\u001b[0m\u001b[1;33m)\u001b[0m\u001b[1;33m\u001b[0m\u001b[1;33m\u001b[0m\u001b[0m\n",
      "\u001b[1;31mUnboundLocalError\u001b[0m: local variable 'row' referenced before assignment"
     ]
    }
   ],
   "source": [
    "best_matchup_manual(parsed_entire_file,1)"
   ]
  }
 ],
 "metadata": {
  "kernelspec": {
   "display_name": "Python 3",
   "language": "python",
   "name": "python3"
  },
  "language_info": {
   "codemirror_mode": {
    "name": "ipython",
    "version": 3
   },
   "file_extension": ".py",
   "mimetype": "text/x-python",
   "name": "python",
   "nbconvert_exporter": "python",
   "pygments_lexer": "ipython3",
   "version": "3.7.1"
  }
 },
 "nbformat": 4,
 "nbformat_minor": 2
}
